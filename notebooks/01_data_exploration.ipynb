{
 "cells": [
  {
   "cell_type": "code",
   "execution_count": null,
   "id": "02928483",
   "metadata": {},
   "outputs": [],
   "source": [
    "# -*- coding: utf-8 -*-\n",
    "# ---\n",
    "# jupyter:\n",
    "#   jupytext:\n",
    "#     text_representation:\n",
    "#       extension: .py\n",
    "#       format_name: light\n",
    "#       format_version: '1.5'\n",
    "#       jupytext_version: 1.13.7\n",
    "#   kernelspec:\n",
    "#     display_name: Python 3 (ipykernel)\n",
    "#     language: python\n",
    "#     name: python3\n",
    "# ---"
   ]
  },
  {
   "cell_type": "markdown",
   "id": "af5bf870",
   "metadata": {},
   "source": [
    "## Cell 1: Setup Project Root Path & Core Imports"
   ]
  },
  {
   "cell_type": "code",
   "execution_count": null,
   "id": "5429cc16",
   "metadata": {},
   "outputs": [],
   "source": [
    "import os\n",
    "import sys\n",
    "import pandas as pd\n",
    "import matplotlib.pyplot as plt\n",
    "import seaborn as sns\n",
    "import warnings"
   ]
  },
  {
   "cell_type": "code",
   "execution_count": null,
   "id": "f1eea2a5",
   "metadata": {},
   "outputs": [],
   "source": [
    "# --- Add project root to sys.path ---\n",
    "# Get the current working directory of the notebook (e.g., C:\\...\\ClinNLP\\notebooks)\n",
    "notebook_dir = os.getcwd()\n",
    "# Go up one level to get the project root directory (e.g., C:\\...\\ClinNLP)\n",
    "project_root = os.path.dirname(notebook_dir)"
   ]
  },
  {
   "cell_type": "code",
   "execution_count": null,
   "id": "fd49409e",
   "metadata": {},
   "outputs": [],
   "source": [
    "# Check if the project root is already in sys.path, if not, add it\n",
    "if project_root not in sys.path:\n",
    "    print(f\"Adding project root to sys.path: {project_root}\")\n",
    "    sys.path.insert(0, project_root) # Use insert(0, ...) to prioritize this path\n",
    "else:\n",
    "    print(f\"Project root already in sys.path: {project_root}\")\n",
    "# ------------------------------------"
   ]
  },
  {
   "cell_type": "code",
   "execution_count": null,
   "id": "1fa26c5e",
   "metadata": {},
   "outputs": [],
   "source": [
    "# Filter warnings for cleaner output\n",
    "warnings.filterwarnings(\"ignore\", category=FutureWarning)\n",
    "warnings.filterwarnings(\"ignore\", category=UserWarning)\n",
    "# warnings.filterwarnings(\"ignore\", message=\"Using categorical_feature in Dataset.\") # Uncomment if needed"
   ]
  },
  {
   "cell_type": "code",
   "execution_count": null,
   "id": "b9e43112",
   "metadata": {},
   "outputs": [],
   "source": [
    "# --- Import modules from src and config ---\n",
    "try:\n",
    "    from src.config import (DATA_DIR, PATIENT_DATA_PATH, NOTES_DATA_PATH,\n",
    "                            AE_EVENTS_PATH, PLOT_DIR, AE_LABELS) # Add other configs if needed\n",
    "    from src.data_processing import load_patient_data, load_notes_data\n",
    "    from src.nlp_extraction import extract_entities_advanced_nlp # Needed to generate NLP results here\n",
    "    from src.visualization import (plot_ae_frequency, plot_ae_severity,\n",
    "                                   plot_ae_by_drug, plot_patient_timeline)\n",
    "\n",
    "    print(\"\\nSuccessfully imported modules from 'src' and config.\")\n",
    "    print(f\"Project Root: {project_root}\")\n",
    "    print(f\"Data Dir: {DATA_DIR}\")"
   ]
  },
  {
   "cell_type": "code",
   "execution_count": null,
   "id": "261c16af",
   "metadata": {
    "lines_to_next_cell": 2
   },
   "outputs": [],
   "source": [
    "except ImportError as e:\n",
    "    print(f\"\\nERROR: Could not import from 'src'.\")\n",
    "    print(f\"Ensure the notebook is inside the 'notebooks' directory\")\n",
    "    print(f\"and the 'src' directory exists at the project root: {project_root}\")\n",
    "    print(f\"ImportError: {e}\")\n",
    "    # Optionally raise error or exit if imports fail:\n",
    "    # raise e\n",
    "except Exception as e:\n",
    "    print(f\"An unexpected error occurred during import: {e}\")\n",
    "    # raise e"
   ]
  },
  {
   "cell_type": "markdown",
   "id": "ddd077f9",
   "metadata": {},
   "source": [
    "## Cell 2: Load Raw Data"
   ]
  },
  {
   "cell_type": "code",
   "execution_count": null,
   "id": "bf7f9c68",
   "metadata": {},
   "outputs": [],
   "source": [
    "print(\"\\nLoading raw patient and notes data...\")\n",
    "try:\n",
    "    patients_df = load_patient_data(PATIENT_DATA_PATH)\n",
    "    notes_df = load_notes_data(NOTES_DATA_PATH)\n",
    "    # Optional: Load AE events if needed for cross-referencing exploration\n",
    "    # ae_events_df = pd.read_csv(AE_EVENTS_PATH, parse_dates=['ae_timestamp'])\n",
    "\n",
    "    print(f\"\\nLoaded {len(patients_df)} patients.\")\n",
    "    print(patients_df.head())\n",
    "    print(f\"\\nLoaded {len(notes_df)} notes.\")\n",
    "    print(notes_df.head())\n",
    "    print(\"\\nRaw data loaded successfully.\")"
   ]
  },
  {
   "cell_type": "code",
   "execution_count": null,
   "id": "e5d0fdef",
   "metadata": {},
   "outputs": [],
   "source": [
    "except FileNotFoundError as e:\n",
    "    print(f\"\\nERROR: Data file not found.\")\n",
    "    print(e)\n",
    "    print(\"Please ensure data files exist at the paths defined in src/config.py and are accessible.\")\n",
    "    # Set dfs to None or empty to prevent errors later if loading fails\n",
    "    patients_df = None\n",
    "    notes_df = None\n",
    "except Exception as e:\n",
    "    print(f\"An error occurred loading raw data: {e}\")\n",
    "    patients_df = None\n",
    "    notes_df = None"
   ]
  },
  {
   "cell_type": "code",
   "execution_count": null,
   "id": "51b9c850",
   "metadata": {},
   "outputs": [],
   "source": [
    "# ## Cell 3: Run NLP Extraction (Potentially Time-Consuming)\n",
    "#\n",
    "# This step generates the \n",
    "lp_results_df needed for the subsequent visualizations.\n",
    "# If you have pre-computed NLP results, load them here instead."
   ]
  },
  {
   "cell_type": "code",
   "execution_count": null,
   "id": "2761c55e",
   "metadata": {},
   "outputs": [],
   "source": [
    "nlp_results_df = pd.DataFrame() # Initialize empty DataFrame"
   ]
  },
  {
   "cell_type": "code",
   "execution_count": null,
   "id": "5bdf5d35",
   "metadata": {},
   "outputs": [],
   "source": [
    "if notes_df is not None and not notes_df.empty:\n",
    "    print(\"\\nStarting NLP entity extraction (this may take a while)...\")\n",
    "    try:\n",
    "        # Consider running on a smaller sample for faster exploration initially:\n",
    "        # sample_notes_df = notes_df.sample(n=1000, random_state=42) # Example sample\n",
    "        # nlp_results_df = extract_entities_advanced_nlp(sample_notes_df)\n",
    "        # Or run on all notes:\n",
    "        nlp_results_df = extract_entities_advanced_nlp(notes_df)\n",
    "\n",
    "        if not nlp_results_df.empty:\n",
    "            print(f\"\\nNLP extraction completed. Found {len(nlp_results_df)} affirmative entities.\")\n",
    "            print(\"Sample NLP results:\")\n",
    "            print(nlp_results_df.head())\n",
    "        else:\n",
    "            print(\"\\nWarning: NLP extraction did not yield any affirmative entities.\")\n",
    "\n",
    "    except Exception as e:\n",
    "        print(f\"\\nERROR during NLP extraction in the notebook: {e}\")\n",
    "        print(\"Subsequent plots relying on NLP results may fail or be empty.\")\n",
    "        nlp_results_df = pd.DataFrame() # Ensure it's empty on error"
   ]
  },
  {
   "cell_type": "code",
   "execution_count": null,
   "id": "8c9add98",
   "metadata": {
    "lines_to_next_cell": 2
   },
   "outputs": [],
   "source": [
    "else:\n",
    "    print(\"\\nSkipping NLP extraction because notes data failed to load.\")"
   ]
  },
  {
   "cell_type": "markdown",
   "id": "458dcffe",
   "metadata": {},
   "source": [
    "## Cell 4: Visualize AE Frequency"
   ]
  },
  {
   "cell_type": "code",
   "execution_count": null,
   "id": "09534461",
   "metadata": {},
   "outputs": [],
   "source": [
    "# Ensure plot directory exists\n",
    "os.makedirs(PLOT_DIR, exist_ok=True)"
   ]
  },
  {
   "cell_type": "code",
   "execution_count": null,
   "id": "89acf2ba",
   "metadata": {},
   "outputs": [],
   "source": [
    "if not nlp_results_df.empty:\n",
    "    try:\n",
    "        plot_ae_frequency(nlp_results_df, save_plot=True) # save_plot=True saves to output/plots\n",
    "    except Exception as e:\n",
    "        print(f\"Error generating AE frequency plot: {e}\")\n",
    "else:\n",
    "    print(\"\\nSkipping AE frequency plot (no NLP results).\")"
   ]
  },
  {
   "cell_type": "markdown",
   "id": "d6c75fbe",
   "metadata": {},
   "source": [
    "## Cell 5: Visualize AE Severity Distribution"
   ]
  },
  {
   "cell_type": "code",
   "execution_count": null,
   "id": "9517cc33",
   "metadata": {},
   "outputs": [],
   "source": [
    "if not nlp_results_df.empty:\n",
    "    try:\n",
    "        plot_ae_severity(nlp_results_df, save_plot=True)\n",
    "    except Exception as e:\n",
    "        print(f\"Error generating AE severity plot: {e}\")\n",
    "else:\n",
    "    print(\"\\nSkipping AE severity plot (no NLP results).\")"
   ]
  },
  {
   "cell_type": "markdown",
   "id": "dbcbee91",
   "metadata": {},
   "source": [
    "## Cell 6: Visualize AE-Drug Co-occurrence"
   ]
  },
  {
   "cell_type": "code",
   "execution_count": null,
   "id": "e7fefc59",
   "metadata": {},
   "outputs": [],
   "source": [
    "if not nlp_results_df.empty:\n",
    "    try:\n",
    "        plot_ae_by_drug(nlp_results_df, save_plot=True)\n",
    "    except Exception as e:\n",
    "        print(f\"Error generating AE-drug co-occurrence plot: {e}\")\n",
    "else:\n",
    "    print(\"\\nSkipping AE-drug co-occurrence plot (no NLP results).\")"
   ]
  },
  {
   "cell_type": "markdown",
   "id": "fd87abe3",
   "metadata": {},
   "source": [
    "## Cell 7: Visualize Example Patient Timeline (Optional)"
   ]
  },
  {
   "cell_type": "code",
   "execution_count": null,
   "id": "9ffc8c83",
   "metadata": {},
   "outputs": [],
   "source": [
    "if not nlp_results_df.empty:\n",
    "    # Find a patient with some AEs to plot\n",
    "    patients_with_aes = nlp_results_df[\n",
    "        nlp_results_df['entity_type'].isin(AE_LABELS) & nlp_results_df['severity_grade'].notna()\n",
    "        ]['patient_id'].unique()\n",
    "\n",
    "    if len(patients_with_aes) > 0:\n",
    "        example_patient_id = patients_with_aes[0] # Plot the first one found\n",
    "        print(f\"\\nAttempting timeline plot for example Patient ID: {example_patient_id}\")\n",
    "        try:\n",
    "            plot_patient_timeline(nlp_results_df, patient_id_to_plot=example_patient_id, save_plot=True)\n",
    "        except Exception as e:\n",
    "            print(f\"Error generating patient timeline plot: {e}\")\n",
    "    else:\n",
    "        print(\"\\nCould not find any patients with AEs+Severity in the NLP results for timeline example.\")\n",
    "else:\n",
    "    print(\"\\nSkipping patient timeline plot (no NLP results).\")"
   ]
  },
  {
   "cell_type": "code",
   "execution_count": null,
   "id": "b39336ab",
   "metadata": {
    "lines_to_next_cell": 2
   },
   "outputs": [],
   "source": [
    "print(\"\\n\\n--- Data Exploration Notebook Finished ---\")"
   ]
  }
 ],
 "metadata": {
  "jupytext": {
   "cell_metadata_filter": "-all",
   "main_language": "python",
   "notebook_metadata_filter": "-all"
  },
  "kernelspec": {
   "display_name": "Python 3",
   "language": "python",
   "name": "python3"
  },
  "language_info": {
   "codemirror_mode": {
    "name": "ipython",
    "version": 3
   },
   "file_extension": ".py",
   "mimetype": "text/x-python",
   "name": "python",
   "nbconvert_exporter": "python",
   "pygments_lexer": "ipython3",
   "version": "3.11.1"
  }
 },
 "nbformat": 4,
 "nbformat_minor": 5
}
